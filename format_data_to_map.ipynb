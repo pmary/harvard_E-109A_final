{
 "cells": [
  {
   "cell_type": "code",
   "execution_count": 1,
   "metadata": {},
   "outputs": [],
   "source": [
    "import pandas as pd\n",
    "import json"
   ]
  },
  {
   "cell_type": "code",
   "execution_count": 2,
   "metadata": {},
   "outputs": [],
   "source": [
    "results = pd.read_csv('data/final_results_map.csv', index_col=None)"
   ]
  },
  {
   "cell_type": "code",
   "execution_count": 3,
   "metadata": {},
   "outputs": [
    {
     "data": {
      "text/html": [
       "<div>\n",
       "<style scoped>\n",
       "    .dataframe tbody tr th:only-of-type {\n",
       "        vertical-align: middle;\n",
       "    }\n",
       "\n",
       "    .dataframe tbody tr th {\n",
       "        vertical-align: top;\n",
       "    }\n",
       "\n",
       "    .dataframe thead th {\n",
       "        text-align: right;\n",
       "    }\n",
       "</style>\n",
       "<table border=\"1\" class=\"dataframe\">\n",
       "  <thead>\n",
       "    <tr style=\"text-align: right;\">\n",
       "      <th></th>\n",
       "      <th>state</th>\n",
       "      <th>district</th>\n",
       "      <th>won</th>\n",
       "      <th>won_pred</th>\n",
       "      <th>rel_won_proba</th>\n",
       "      <th>correct_pred</th>\n",
       "    </tr>\n",
       "  </thead>\n",
       "  <tbody>\n",
       "    <tr>\n",
       "      <th>0</th>\n",
       "      <td>Alabama</td>\n",
       "      <td>District 1</td>\n",
       "      <td>1</td>\n",
       "      <td>1.0</td>\n",
       "      <td>0.996061</td>\n",
       "      <td>True</td>\n",
       "    </tr>\n",
       "    <tr>\n",
       "      <th>1</th>\n",
       "      <td>Alabama</td>\n",
       "      <td>District 2</td>\n",
       "      <td>1</td>\n",
       "      <td>1.0</td>\n",
       "      <td>0.991629</td>\n",
       "      <td>True</td>\n",
       "    </tr>\n",
       "    <tr>\n",
       "      <th>2</th>\n",
       "      <td>Alabama</td>\n",
       "      <td>District 3</td>\n",
       "      <td>1</td>\n",
       "      <td>1.0</td>\n",
       "      <td>0.878124</td>\n",
       "      <td>True</td>\n",
       "    </tr>\n",
       "    <tr>\n",
       "      <th>3</th>\n",
       "      <td>Alabama</td>\n",
       "      <td>District 4</td>\n",
       "      <td>1</td>\n",
       "      <td>1.0</td>\n",
       "      <td>0.993328</td>\n",
       "      <td>True</td>\n",
       "    </tr>\n",
       "    <tr>\n",
       "      <th>4</th>\n",
       "      <td>Alabama</td>\n",
       "      <td>District 5</td>\n",
       "      <td>1</td>\n",
       "      <td>1.0</td>\n",
       "      <td>0.945481</td>\n",
       "      <td>True</td>\n",
       "    </tr>\n",
       "  </tbody>\n",
       "</table>\n",
       "</div>"
      ],
      "text/plain": [
       "     state    district  won  won_pred  rel_won_proba  correct_pred\n",
       "0  Alabama  District 1    1       1.0       0.996061          True\n",
       "1  Alabama  District 2    1       1.0       0.991629          True\n",
       "2  Alabama  District 3    1       1.0       0.878124          True\n",
       "3  Alabama  District 4    1       1.0       0.993328          True\n",
       "4  Alabama  District 5    1       1.0       0.945481          True"
      ]
     },
     "metadata": {},
     "output_type": "display_data"
    },
    {
     "data": {
      "text/plain": [
       "435"
      ]
     },
     "metadata": {},
     "output_type": "display_data"
    }
   ],
   "source": [
    "display(results.head())\n",
    "display(len(results))\n",
    "# display(results.dtypes)"
   ]
  },
  {
   "cell_type": "code",
   "execution_count": 23,
   "metadata": {},
   "outputs": [
    {
     "name": "stdout",
     "output_type": "stream",
     "text": [
      "Puerto Rico 00 No result for this district\n",
      "District of Columbia 00 No result for this district\n",
      "U.S. Virgin Islands 00 No result for this district\n",
      "Guam 00 No result for this district\n",
      "Northern Mariana Islands 00 No result for this district\n",
      "American Samoa 00 No result for this district\n"
     ]
    }
   ],
   "source": [
    "with open('data/map/us_congressional_districts.json') as f:\n",
    "    map_data = json.load(f)\n",
    "\n",
    "at_large_dists = ['Alaska', 'Delaware', 'Montana', 'Wyoming', 'Vermont', 'South Dakota', 'North Dakota',\n",
    "                 'Puerto Rico', 'District of Columbia']\n",
    "    \n",
    "i = 0\n",
    "for geometry in map_data['objects']['us_congressional_districts']['geometries']:\n",
    "    district = geometry['properties']\n",
    "    # print(district['STATE'], district['CONG_DIST'])\n",
    "    # Find the results for this district\n",
    "    if district[\"STATE\"] in at_large_dists:\n",
    "        res = results.loc[(results['state'] == district['STATE']) & \\\n",
    "                (results['district'] == 'At-Large')]\n",
    "    else:\n",
    "        res = results.loc[(results['state'] == district['STATE']) & \\\n",
    "                (results['district'] == 'District {}'.format(int(district['CONG_DIST'])))]\n",
    "        \n",
    "    if len(res) > 0:\n",
    "        # Update the informations\n",
    "        props = {\n",
    "            'STATE': district['STATE'],\n",
    "            'STATE_FIPS': district['STATE_FIPS'],\n",
    "            'CONG_DIST': district['CONG_DIST'],\n",
    "            'CONG_REP': district['CONG_REP'],\n",
    "            'PARTY_AFF': 'Republican' if res['won'].values[0] == 1 else 'Democrat',\n",
    "            'Shape_Leng': district['Shape_Leng'],\n",
    "            'Shape_Area': district['Shape_Area'],\n",
    "            'alpha': res['rel_won_proba'].values[0]\n",
    "        }\n",
    "    else:\n",
    "        print(district['STATE'], district['CONG_DIST'], 'No result for this district')\n",
    "        props = {\n",
    "            'STATE': district['STATE'],\n",
    "            'STATE_FIPS': district['STATE_FIPS'],\n",
    "            'CONG_DIST': district['CONG_DIST'],\n",
    "            'CONG_REP': district['CONG_REP'],\n",
    "            'PARTY_AFF': 'NaN',\n",
    "            'Shape_Leng': district['Shape_Leng'],\n",
    "            'Shape_Area': district['Shape_Area'],\n",
    "            'alpha': 'NaN'\n",
    "        }\n",
    "    \n",
    "    map_data['objects']['us_congressional_districts']['geometries'][i]['properties'] = props\n",
    "    \n",
    "    i = i+1\n",
    "    \n",
    "# Save the updated data\n",
    "with open('data/map/us_house_results_map.json', 'w') as outfile:\n",
    "    json.dump(map_data, outfile)"
   ]
  },
  {
   "cell_type": "code",
   "execution_count": null,
   "metadata": {},
   "outputs": [],
   "source": []
  }
 ],
 "metadata": {
  "kernelspec": {
   "display_name": "Python 3",
   "language": "python",
   "name": "python3"
  },
  "language_info": {
   "codemirror_mode": {
    "name": "ipython",
    "version": 3
   },
   "file_extension": ".py",
   "mimetype": "text/x-python",
   "name": "python",
   "nbconvert_exporter": "python",
   "pygments_lexer": "ipython3",
   "version": "3.6.6"
  }
 },
 "nbformat": 4,
 "nbformat_minor": 2
}

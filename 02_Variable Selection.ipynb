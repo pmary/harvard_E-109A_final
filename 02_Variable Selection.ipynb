{
 "cells": [
  {
   "cell_type": "code",
   "execution_count": 100,
   "metadata": {},
   "outputs": [],
   "source": [
    "import requests\n",
    "from IPython.core.display import HTML\n",
    "styles = requests.get(\"https://raw.githubusercontent.com/Harvard-IACS/2018-CS109A/master/content/styles/cs109.css\").text\n",
    "HTML(styles)\n",
    "\n",
    "import pandas as pd\n",
    "import time\n",
    "import numpy as np\n",
    "from sklearn.decomposition import PCA\n",
    "import matplotlib\n",
    "import matplotlib.pyplot as plt\n",
    "from sklearn.impute import SimpleImputer\n",
    "from sklearn.preprocessing import StandardScaler\n",
    "import seaborn as sns\n",
    "from sklearn.linear_model import LogisticRegression\n",
    "from sklearn.linear_model import LogisticRegressionCV\n",
    "from sklearn.linear_model import Lasso\n",
    "from sklearn.model_selection import cross_val_score\n",
    "from sklearn.utils import resample\n",
    "from sklearn.tree import DecisionTreeClassifier\n",
    "from sklearn.ensemble import RandomForestClassifier\n",
    "from sklearn.ensemble import AdaBoostClassifier\n",
    "from sklearn.metrics import accuracy_score\n",
    "from sklearn.neighbors import KNeighborsClassifier\n",
    "from sklearn.discriminant_analysis import LinearDiscriminantAnalysis\n",
    "from sklearn.discriminant_analysis import QuadraticDiscriminantAnalysis\n",
    "from sklearn.feature_selection import SelectFromModel\n",
    "import keras \n",
    "from keras.models import Sequential\n",
    "from keras.layers import Dense\n",
    "import scipy.stats as stats\n",
    "from scipy.stats import chi2_contingency\n",
    "import warnings\n"
   ]
  },
  {
   "cell_type": "code",
   "execution_count": 202,
   "metadata": {
    "scrolled": true
   },
   "outputs": [
    {
     "data": {
      "text/plain": [
       "(9974, 20)"
      ]
     },
     "metadata": {},
     "output_type": "display_data"
    },
    {
     "data": {
      "text/html": [
       "<div>\n",
       "<style scoped>\n",
       "    .dataframe tbody tr th:only-of-type {\n",
       "        vertical-align: middle;\n",
       "    }\n",
       "\n",
       "    .dataframe tbody tr th {\n",
       "        vertical-align: top;\n",
       "    }\n",
       "\n",
       "    .dataframe thead th {\n",
       "        text-align: right;\n",
       "    }\n",
       "</style>\n",
       "<table border=\"1\" class=\"dataframe\">\n",
       "  <thead>\n",
       "    <tr style=\"text-align: right;\">\n",
       "      <th></th>\n",
       "      <th>district</th>\n",
       "      <th>is_incumbent</th>\n",
       "      <th>name</th>\n",
       "      <th>party</th>\n",
       "      <th>percent</th>\n",
       "      <th>state</th>\n",
       "      <th>votes</th>\n",
       "      <th>won</th>\n",
       "      <th>year</th>\n",
       "      <th>first_time_elected</th>\n",
       "      <th>count_victories</th>\n",
       "      <th>unemployement_rate</th>\n",
       "      <th>is_presidential_year</th>\n",
       "      <th>president_can_be_re_elected</th>\n",
       "      <th>president_party</th>\n",
       "      <th>president_overall_avg_job_approval</th>\n",
       "      <th>last_D_house_seats</th>\n",
       "      <th>last_R_house_seats</th>\n",
       "      <th>last_house_majority</th>\n",
       "      <th>fundraising</th>\n",
       "    </tr>\n",
       "  </thead>\n",
       "  <tbody>\n",
       "    <tr>\n",
       "      <th>0</th>\n",
       "      <td>District 1</td>\n",
       "      <td>0.0</td>\n",
       "      <td>Ratliff Boon</td>\n",
       "      <td>D</td>\n",
       "      <td>42.1</td>\n",
       "      <td>Indiana</td>\n",
       "      <td>4281</td>\n",
       "      <td>1</td>\n",
       "      <td>1824</td>\n",
       "      <td>1824.0</td>\n",
       "      <td>0</td>\n",
       "      <td>5.790196</td>\n",
       "      <td>0.0</td>\n",
       "      <td>1.0</td>\n",
       "      <td>0</td>\n",
       "      <td>0.525667</td>\n",
       "      <td>200.179856</td>\n",
       "      <td>182.503597</td>\n",
       "      <td>D</td>\n",
       "      <td>552917.8375</td>\n",
       "    </tr>\n",
       "    <tr>\n",
       "      <th>1</th>\n",
       "      <td>District 1</td>\n",
       "      <td>1.0</td>\n",
       "      <td>Ratliff Boon</td>\n",
       "      <td>D</td>\n",
       "      <td>42.8</td>\n",
       "      <td>Indiana</td>\n",
       "      <td>5202</td>\n",
       "      <td>1</td>\n",
       "      <td>1826</td>\n",
       "      <td>1824.0</td>\n",
       "      <td>1</td>\n",
       "      <td>5.790196</td>\n",
       "      <td>0.0</td>\n",
       "      <td>1.0</td>\n",
       "      <td>0</td>\n",
       "      <td>0.525667</td>\n",
       "      <td>200.179856</td>\n",
       "      <td>182.503597</td>\n",
       "      <td>D</td>\n",
       "      <td>552917.8375</td>\n",
       "    </tr>\n",
       "    <tr>\n",
       "      <th>2</th>\n",
       "      <td>District 1</td>\n",
       "      <td>1.0</td>\n",
       "      <td>Ratliff Boon</td>\n",
       "      <td>D</td>\n",
       "      <td>52.2</td>\n",
       "      <td>Indiana</td>\n",
       "      <td>7272</td>\n",
       "      <td>1</td>\n",
       "      <td>1828</td>\n",
       "      <td>1824.0</td>\n",
       "      <td>2</td>\n",
       "      <td>5.790196</td>\n",
       "      <td>0.0</td>\n",
       "      <td>1.0</td>\n",
       "      <td>0</td>\n",
       "      <td>0.525667</td>\n",
       "      <td>200.179856</td>\n",
       "      <td>182.503597</td>\n",
       "      <td>D</td>\n",
       "      <td>552917.8375</td>\n",
       "    </tr>\n",
       "    <tr>\n",
       "      <th>3</th>\n",
       "      <td>District 1</td>\n",
       "      <td>0.0</td>\n",
       "      <td>John Law</td>\n",
       "      <td>D</td>\n",
       "      <td>49.1</td>\n",
       "      <td>Indiana</td>\n",
       "      <td>10868</td>\n",
       "      <td>0</td>\n",
       "      <td>1830</td>\n",
       "      <td>1860.0</td>\n",
       "      <td>0</td>\n",
       "      <td>5.790196</td>\n",
       "      <td>0.0</td>\n",
       "      <td>1.0</td>\n",
       "      <td>0</td>\n",
       "      <td>0.525667</td>\n",
       "      <td>200.179856</td>\n",
       "      <td>182.503597</td>\n",
       "      <td>D</td>\n",
       "      <td>552917.8375</td>\n",
       "    </tr>\n",
       "    <tr>\n",
       "      <th>4</th>\n",
       "      <td>District 1</td>\n",
       "      <td>1.0</td>\n",
       "      <td>Ratliff Boon</td>\n",
       "      <td>D</td>\n",
       "      <td>50.9</td>\n",
       "      <td>Indiana</td>\n",
       "      <td>11280</td>\n",
       "      <td>1</td>\n",
       "      <td>1830</td>\n",
       "      <td>1824.0</td>\n",
       "      <td>3</td>\n",
       "      <td>5.790196</td>\n",
       "      <td>0.0</td>\n",
       "      <td>1.0</td>\n",
       "      <td>0</td>\n",
       "      <td>0.525667</td>\n",
       "      <td>200.179856</td>\n",
       "      <td>182.503597</td>\n",
       "      <td>D</td>\n",
       "      <td>552917.8375</td>\n",
       "    </tr>\n",
       "  </tbody>\n",
       "</table>\n",
       "</div>"
      ],
      "text/plain": [
       "     district  is_incumbent          name party  percent    state  votes  won  \\\n",
       "0  District 1           0.0  Ratliff Boon     D     42.1  Indiana   4281    1   \n",
       "1  District 1           1.0  Ratliff Boon     D     42.8  Indiana   5202    1   \n",
       "2  District 1           1.0  Ratliff Boon     D     52.2  Indiana   7272    1   \n",
       "3  District 1           0.0      John Law     D     49.1  Indiana  10868    0   \n",
       "4  District 1           1.0  Ratliff Boon     D     50.9  Indiana  11280    1   \n",
       "\n",
       "   year  first_time_elected  count_victories  unemployement_rate  \\\n",
       "0  1824              1824.0                0            5.790196   \n",
       "1  1826              1824.0                1            5.790196   \n",
       "2  1828              1824.0                2            5.790196   \n",
       "3  1830              1860.0                0            5.790196   \n",
       "4  1830              1824.0                3            5.790196   \n",
       "\n",
       "   is_presidential_year  president_can_be_re_elected president_party  \\\n",
       "0                   0.0                          1.0               0   \n",
       "1                   0.0                          1.0               0   \n",
       "2                   0.0                          1.0               0   \n",
       "3                   0.0                          1.0               0   \n",
       "4                   0.0                          1.0               0   \n",
       "\n",
       "   president_overall_avg_job_approval  last_D_house_seats  last_R_house_seats  \\\n",
       "0                            0.525667          200.179856          182.503597   \n",
       "1                            0.525667          200.179856          182.503597   \n",
       "2                            0.525667          200.179856          182.503597   \n",
       "3                            0.525667          200.179856          182.503597   \n",
       "4                            0.525667          200.179856          182.503597   \n",
       "\n",
       "  last_house_majority  fundraising  \n",
       "0                   D  552917.8375  \n",
       "1                   D  552917.8375  \n",
       "2                   D  552917.8375  \n",
       "3                   D  552917.8375  \n",
       "4                   D  552917.8375  "
      ]
     },
     "metadata": {},
     "output_type": "display_data"
    }
   ],
   "source": [
    "house_df = pd.read_csv('data/house_mean_imputation.csv')\n",
    "house_df = house_df.drop_duplicates(['year', 'state', 'district', 'name'])\n",
    "display(house_df.shape)\n",
    "display(house_df.head())"
   ]
  },
  {
   "cell_type": "markdown",
   "metadata": {},
   "source": [
    "# Variable Selection"
   ]
  },
  {
   "cell_type": "code",
   "execution_count": 203,
   "metadata": {},
   "outputs": [],
   "source": [
    "#these are the categrorical variables\n",
    "cat_cols=['president_party','party','state','district','last_house_majority','name']\n",
    "#These are the response variables\n",
    "response_var = ['won', 'percent','votes']"
   ]
  },
  {
   "cell_type": "code",
   "execution_count": 236,
   "metadata": {},
   "outputs": [],
   "source": [
    "#one-hot-coding is necessary because of category variables\n",
    "#because it is no ordinary data we cannot do label encoding. So we do one-hot-encoding\n",
    "def one_hot_coding(data,cat_cols,y_year=2018):\n",
    "    #returns x and y variables for test and train\n",
    "    \n",
    "    #create dummy features\n",
    "    data = pd.get_dummies(data, columns=cat_cols)\n",
    "    \n",
    "    #create data sets for test and training\n",
    "    sel_train, sel_test=sel_df[sel_df['year']!=y_year], sel_df[sel_df['year']==y_year]\n",
    "    \n",
    "    x_train, y_train=sel_train.drop(columns = response_var, axis=1), sel_train['won']\n",
    "    x_test, y_test=sel_test.drop(columns = response_var, axis=1), sel_test['won']\n",
    "    \n",
    "    return x_train, y_train, x_test, y_test"
   ]
  },
  {
   "cell_type": "markdown",
   "metadata": {},
   "source": [
    "## Variable Selection - categorical variables"
   ]
  },
  {
   "cell_type": "code",
   "execution_count": 237,
   "metadata": {},
   "outputs": [],
   "source": [
    "def chi2_test(x_col,y_col):\n",
    "    x = x_col.astype(str)\n",
    "    y= y_col.astype(str)\n",
    "\n",
    "    obs_val = pd.crosstab(y,x)\n",
    "    chi2, p, dof, expected = stats.chi2_contingency(obs_val.values)\n",
    "    \n",
    "    #dfExpected = pd.DataFrame(expected, columns=dfObserved.columns, index = dfObserved.index)\n",
    "    return chi2, p, dof"
   ]
  },
  {
   "cell_type": "code",
   "execution_count": 238,
   "metadata": {},
   "outputs": [],
   "source": [
    "def print_chi2_result(data,y_col='won',cat_cols=cat_cols):\n",
    "    for i in range(len(cat_cols)):\n",
    "        chi2, p, dof = chi2_test(data[cat_cols[i]],data[y_col])\n",
    "        if p>alpha:\n",
    "            print('Important for the prediction model: {} (p-value: {:+.3f}, chi2: {:+.1f})'.format(cat_cols[i],p,chi2))\n",
    "        else:\n",
    "            print('\\033[1mNOT\\033[0m important for the prediction model: \\033[1m{}\\033[0m (p-value: {:+.3f}, chi2: {:+.1f})'.format(cat_cols[i],p,chi2))"
   ]
  },
  {
   "cell_type": "code",
   "execution_count": 239,
   "metadata": {},
   "outputs": [
    {
     "name": "stdout",
     "output_type": "stream",
     "text": [
      "Important for the prediction model: president_party (p-value: +0.094, chi2: +4.7)\n",
      "Important for the prediction model: party (p-value: +0.978, chi2: +0.0)\n",
      "Important for the prediction model: state (p-value: +0.977, chi2: +31.3)\n",
      "Important for the prediction model: district (p-value: +1.000, chi2: +8.4)\n",
      "Important for the prediction model: last_house_majority (p-value: +0.661, chi2: +0.2)\n",
      "\u001b[1mNOT\u001b[0m important for the prediction model: \u001b[1mname\u001b[0m (p-value: +0.000, chi2: +9241.0)\n"
     ]
    }
   ],
   "source": [
    "print_chi2_result(house_df)"
   ]
  },
  {
   "cell_type": "markdown",
   "metadata": {},
   "source": [
    "#### Interpretation: \n",
    "- Column \"name\" is not useful in the models"
   ]
  },
  {
   "cell_type": "markdown",
   "metadata": {},
   "source": [
    "## Variable Selection - Random Forest with one-hot-coding "
   ]
  },
  {
   "cell_type": "code",
   "execution_count": 240,
   "metadata": {
    "scrolled": false
   },
   "outputs": [],
   "source": [
    "#copy of original dataset\n",
    "forest_df = house_df.copy()\n",
    "\n",
    "#Exclude column name because of low p-value - see chapter \"Variable Selection - categorical variables\"\n",
    "forest_df = forest_df.drop(columns = 'name')\n",
    "\n",
    "#categorical columns for Random Forest model\n",
    "forest_cat=['president_party','party','state','district','last_house_majority']"
   ]
  },
  {
   "cell_type": "code",
   "execution_count": 241,
   "metadata": {},
   "outputs": [],
   "source": [
    "def var_sel_RF(forest_df,forest_cat=forest_cat,y_year=2018, threshold=0.003):\n",
    "    #returns 1) sorted list of most important features\n",
    "    #        2) Accuracy of model with all features and with selected features\n",
    "    #thresold: minimum feature importance\n",
    "    \n",
    "    x_train, y_train, x_test, y_test = one_hot_coding(forest_df,forest_cat,y_year)\n",
    "    \n",
    "    # Create a random forest classifier. number of trees set to 1000\n",
    "    clf = RandomForestClassifier(n_estimators=100, random_state=0, n_jobs=-1)\n",
    "    \n",
    "    # Train the classifier\n",
    "    clf.fit(x_train, y_train)\n",
    "    feat_labels = x_train.columns\n",
    "    feat_imp = []\n",
    "    \n",
    "    # name and gini importance of each feature\n",
    "    for feature in zip(clf.feature_importances_,feat_labels):\n",
    "        feat_imp.append(feature)\n",
    "    feat_imp.sort(reverse=True)\n",
    "    \n",
    "    #list with most important features\n",
    "    feat_imp = list(filter(lambda x: x[0] > threshold, feat_imp))\n",
    "    \n",
    "    # Create a selector object that will use the random forest classifier to identify\n",
    "    # features that have an importance of more than 0.003\n",
    "    sfm = SelectFromModel(clf, threshold=threshold)\n",
    "\n",
    "    # Train the selector\n",
    "    sfm.fit(x_train, y_train)\n",
    "    \n",
    "    # Transform the data to create a new dataset containing only the most important features\n",
    "    # Note: We have to apply the transform to both the training X and test X data.\n",
    "    X_important_train = sfm.transform(x_train)\n",
    "    X_important_test = sfm.transform(x_test)\n",
    "    \n",
    "    # Create a new random forest classifier for the most important features\n",
    "    clf_important = RandomForestClassifier(n_estimators=100, random_state=0, n_jobs=-1)\n",
    "\n",
    "    # Train the new classifier on the new dataset containing the most important features\n",
    "    clf_important.fit(X_important_train, y_train)\n",
    "    \n",
    "    # Accuracy of model with all features\n",
    "    y_pred = clf.predict(x_test)\n",
    "    print('Accuracy of model with all features: {}'.format(accuracy_score(y_test, y_pred)))\n",
    "    \n",
    "    # Accuracy of model with most important features\n",
    "    y_important_pred = clf_important.predict(X_important_test)\n",
    "    print('Accuracy of model with most important features: {}'.format(accuracy_score(y_test, y_important_pred)))\n",
    "    \n",
    "    return feat_imp"
   ]
  },
  {
   "cell_type": "code",
   "execution_count": 242,
   "metadata": {},
   "outputs": [
    {
     "name": "stdout",
     "output_type": "stream",
     "text": [
      "Accuracy of model with all features: 0.969047619047619\n",
      "Accuracy of model with most important features: 0.9702380952380952\n"
     ]
    },
    {
     "data": {
      "text/plain": [
       "[(0.4075507398881319, 'first_time_elected'),\n",
       " (0.19049897485117367, 'is_incumbent'),\n",
       " (0.10744801578798358, 'count_victories'),\n",
       " (0.03137329252168415, 'fundraising'),\n",
       " (0.012195163321721542, 'year'),\n",
       " (0.010041127139385968, 'unemployement_rate'),\n",
       " (0.0097777130325433, 'last_D_house_seats'),\n",
       " (0.009348505236896149, 'last_R_house_seats'),\n",
       " (0.006282731588713508, 'president_overall_avg_job_approval'),\n",
       " (0.004978813663712148, 'party_D'),\n",
       " (0.00495974751041747, 'party_R'),\n",
       " (0.003100478780759195, 'is_presidential_year')]"
      ]
     },
     "execution_count": 242,
     "metadata": {},
     "output_type": "execute_result"
    }
   ],
   "source": [
    "var_sel_RF(forest_df,forest_cat=forest_cat,y_year=2018, threshold=0.003)"
   ]
  },
  {
   "cell_type": "markdown",
   "metadata": {},
   "source": [
    "# Variable Selection - PCA      (not useful because of categorical variables)"
   ]
  },
  {
   "cell_type": "code",
   "execution_count": 249,
   "metadata": {},
   "outputs": [],
   "source": [
    "#copy of original dataset\n",
    "pca_df = house_df.copy()\n",
    "\n",
    "#Exclude column name because of low p-value - see chapter \"Variable Selection - categorical variables\"\n",
    "pca_df = pca_df.drop(columns = 'name')\n",
    "\n",
    "#categorical columns for Random Forest model\n",
    "pca_cat=['president_party','party','state','district','last_house_majority']\n",
    "\n",
    "#columns to be deleted: respons variables and category variables\n",
    "del_columns = ['won', 'percent','votes','president_party','party','state','district','last_house_majority']"
   ]
  },
  {
   "cell_type": "code",
   "execution_count": 250,
   "metadata": {},
   "outputs": [],
   "source": [
    "#function return the pca object and the scaled dataframe used for PCA\n",
    "def pca_with_scale(data,del_columns=del_columns,n_components=3000):\n",
    "    #returns pca object and scaled dataframe\n",
    "    #data: input dataframe\n",
    "    #del_columns: array with columns to be deleted e.g. columns with strings cannot be used for pca analyzes\n",
    "    \n",
    "    #drop columns\n",
    "    data = data.drop(columns = del_columns)\n",
    "    \n",
    "    scale_df = StandardScaler().fit_transform(data)\n",
    "    scale_df = pd.DataFrame(data=scale_df,    # values\n",
    "#              index=data[1:,0],    # 1st column as index\n",
    "              columns=data.columns)  # 1st row as the column names\n",
    "    scale_df = scale_df.dropna()\n",
    "    pca = PCA(n_components = n_components).fit(scale_df)\n",
    "    return pca, scale_df"
   ]
  },
  {
   "cell_type": "code",
   "execution_count": 251,
   "metadata": {
    "scrolled": true
   },
   "outputs": [
    {
     "name": "stderr",
     "output_type": "stream",
     "text": [
      "C:\\Users\\IBM_ADMIN\\Anaconda3\\lib\\site-packages\\sklearn\\preprocessing\\data.py:617: DataConversionWarning: Data with input dtype int64, float64 were all converted to float64 by StandardScaler.\n",
      "  return self.partial_fit(X, y)\n",
      "C:\\Users\\IBM_ADMIN\\Anaconda3\\lib\\site-packages\\sklearn\\base.py:462: DataConversionWarning: Data with input dtype int64, float64 were all converted to float64 by StandardScaler.\n",
      "  return self.fit(X, **fit_params).transform(X)\n"
     ]
    }
   ],
   "source": [
    "#get data without category variables\n",
    "x_train, y_train, x_test, y_test = one_hot_coding(pca_df,pca_cat,y_year=2018)\n",
    "\n",
    "#get PCA object\n",
    "pca, scale_df = pca_with_scale(pca_df,n_components=11)"
   ]
  },
  {
   "cell_type": "code",
   "execution_count": 252,
   "metadata": {},
   "outputs": [
    {
     "name": "stdout",
     "output_type": "stream",
     "text": [
      "Number of components that explain at least 90% of the variance= 8\n"
     ]
    }
   ],
   "source": [
    "print(\"Number of components that explain at least 90% of the variance=\",\\\n",
    "    len(np.where(np.cumsum(pca.explained_variance_ratio_)<=0.9)[0])+1)"
   ]
  },
  {
   "cell_type": "code",
   "execution_count": 253,
   "metadata": {},
   "outputs": [
    {
     "data": {
      "text/plain": [
       "Text(0.5,1,'Cumulative variance explained')"
      ]
     },
     "execution_count": 253,
     "metadata": {},
     "output_type": "execute_result"
    },
    {
     "data": {
      "image/png": "[encoded data removed]",
      "text/plain": [
       "<Figure size 432x288 with 1 Axes>"
      ]
     },
     "metadata": {
      "needs_background": "light"
     },
     "output_type": "display_data"
    }
   ],
   "source": [
    "#Plot the variance, cumulated per component\n",
    "plt.plot(np.linspace(1, 11, 11), np.cumsum(pca.explained_variance_ratio_))\n",
    "plt.xlabel('number of components', fontsize=12)\n",
    "plt.ylabel('variance explained', fontsize=12)\n",
    "plt.title('Cumulative variance explained',fontsize=15)"
   ]
  },
  {
   "cell_type": "code",
   "execution_count": 254,
   "metadata": {},
   "outputs": [
    {
     "data": {
      "text/plain": [
       "Text(0.5,1,'Variance explained by each component')"
      ]
     },
     "execution_count": 254,
     "metadata": {},
     "output_type": "execute_result"
    },
    {
     "data": {
      "image/png": "[encoded data removed]",
      "text/plain": [
       "<Figure size 432x288 with 1 Axes>"
      ]
     },
     "metadata": {
      "needs_background": "light"
     },
     "output_type": "display_data"
    }
   ],
   "source": [
    "#Plot the variance for each component\n",
    "plt.scatter(range(1, 11+1), pca.explained_variance_ratio_)\n",
    "plt.xlabel('index of components', fontsize=12)\n",
    "plt.ylabel('variance explained', fontsize=12)\n",
    "plt.title('Variance explained by each component',fontsize=15)"
   ]
  },
  {
   "cell_type": "markdown",
   "metadata": {},
   "source": [
    "# Final Conclusion\n",
    "- Use all input variables beside \"name\""
   ]
  },
  {
   "cell_type": "code",
   "execution_count": null,
   "metadata": {},
   "outputs": [],
   "source": []
  }
 ],
 "metadata": {
  "kernelspec": {
   "display_name": "Python 3",
   "language": "python",
   "name": "python3"
  },
  "language_info": {
   "codemirror_mode": {
    "name": "ipython",
    "version": 3
   },
   "file_extension": ".py",
   "mimetype": "text/x-python",
   "name": "python",
   "nbconvert_exporter": "python",
   "pygments_lexer": "ipython3",
   "version": "3.6.6"
  }
 },
 "nbformat": 4,
 "nbformat_minor": 2
}

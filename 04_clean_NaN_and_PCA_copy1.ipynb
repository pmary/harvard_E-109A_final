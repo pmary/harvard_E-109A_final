{
 "cells": [
  {
   "cell_type": "code",
   "execution_count": 1,
   "metadata": {},
   "outputs": [],
   "source": [
    "import requests\n",
    "from IPython.core.display import HTML\n",
    "styles = requests.get(\"https://raw.githubusercontent.com/Harvard-IACS/2018-CS109A/master/content/styles/cs109.css\").text\n",
    "HTML(styles)\n",
    "\n",
    "import pandas as pd\n",
    "import time\n",
    "import numpy as np\n",
    "from sklearn.decomposition import PCA\n",
    "import matplotlib\n",
    "import matplotlib.pyplot as plt\n",
    "from sklearn.impute import SimpleImputer\n",
    "from sklearn.preprocessing import StandardScaler"
   ]
  },
  {
   "cell_type": "markdown",
   "metadata": {},
   "source": [
    "# 1. Data Cleaning (NaNs)"
   ]
  },
  {
   "cell_type": "markdown",
   "metadata": {},
   "source": [
    "First, we import the data set and take a look at it"
   ]
  },
  {
   "cell_type": "code",
   "execution_count": 6,
   "metadata": {},
   "outputs": [
    {
     "data": {
      "text/plain": [
       "(9974, 20)"
      ]
     },
     "execution_count": 6,
     "metadata": {},
     "output_type": "execute_result"
    }
   ],
   "source": [
    "house_df = pd.read_csv('data/ready_to_use_dataset.csv')\n",
    "house_df = house_df.drop_duplicates(['year', 'state', 'district', 'name'])\n",
    "nan_df = house_df.copy()\n",
    "nan_df.shape"
   ]
  },
  {
   "cell_type": "code",
   "execution_count": 7,
   "metadata": {
    "scrolled": false
   },
   "outputs": [
    {
     "data": {
      "text/plain": [
       "district                                 0\n",
       "is_incumbent                           112\n",
       "name                                     0\n",
       "party                                    0\n",
       "percent                                 15\n",
       "state                                    0\n",
       "votes                                   67\n",
       "won                                      0\n",
       "year                                     0\n",
       "first_time_elected                    4445\n",
       "count_victories                          0\n",
       "unemployement_rate                     979\n",
       "is_presidential_year                   102\n",
       "president_can_be_re_elected            102\n",
       "president_party                        102\n",
       "president_overall_avg_job_approval    1060\n",
       "last_D_house_seats                     102\n",
       "last_R_house_seats                     102\n",
       "last_house_majority                    102\n",
       "fundraising                           7172\n",
       "dtype: int64"
      ]
     },
     "execution_count": 7,
     "metadata": {},
     "output_type": "execute_result"
    }
   ],
   "source": [
    "#get columns with NaN data\n",
    "nan_df.isna().sum()"
   ]
  },
  {
   "cell_type": "code",
   "execution_count": 8,
   "metadata": {},
   "outputs": [],
   "source": [
    "#get rid of NaNs\n",
    "def clean_nan(data):\n",
    "    \n",
    "    #iterate over all data and replace NaN\n",
    "    for i in range(data.shape[0]):\n",
    "        \n",
    "        #selections used below\n",
    "        dist_state = data[(data.district == data.district.iloc[i]) & \n",
    "                          (data.state == data.state.iloc[i])]\n",
    "        dist_state_year = data[(data.district == data.district.iloc[i]) & \n",
    "                               (data.state == data.state.iloc[i]) & \n",
    "                               (data.year == data.year.iloc[i])]\n",
    "        \n",
    "        #votes NaN will be replaced with mean of votes from state and district\n",
    "        if np.isnan(data.votes.iloc[i]):\n",
    "            data.votes.iloc[i] = dist_state.votes.mean()\n",
    "            \n",
    "        #is_incumbent NaN will be replaced: if sum of is_incumbent for state/district/year > 0 then assign 0. Else 1\n",
    "        if np.isnan(data.is_incumbent.iloc[i]):\n",
    "            if dist_state_year.is_incumbent.sum() > 0:\n",
    "                data.is_incumbent.iloc[i] = 0\n",
    "            else:\n",
    "                data.is_incumbent.iloc[i] = 1\n",
    "                \n",
    "        #Percent: calculate based on percent per state/district/year and subtract from 100\n",
    "        if np.isnan(data.percent.iloc[i]):\n",
    "            data.percent.iloc[i] = 100 - dist_state_year.percent.sum()\n",
    "            \n",
    "        #first_time_elected: take from year if won=1 else 0\n",
    "        if np.isnan(data.first_time_elected.iloc[i]):\n",
    "            if data.won.iloc[i] == 1:\n",
    "                data.first_time_elected.iloc[i] = data.year.iloc[i]\n",
    "            else:\n",
    "                data.first_time_elected.iloc[i] = 0\n",
    "                \n",
    "        #unemployement_rate: set to 0\n",
    "        if np.isnan(data.unemployement_rate.iloc[i]):\n",
    "            data.unemployement_rate.iloc[i] = 0\n",
    "            \n",
    "        #is_presidential_year: set to 0\n",
    "        if np.isnan(data.is_presidential_year.iloc[i]):\n",
    "            data.is_presidential_year.iloc[i] = 0            \n",
    "\n",
    "        #president_can_be_re_elected: set to 1\n",
    "        if np.isnan(data.president_can_be_re_elected.iloc[i]):\n",
    "            data.president_can_be_re_elected.iloc[i] = 1\n",
    "\n",
    "        #president_party: set to 0\n",
    "        if pd.isnull(data.president_party.iloc[i]):\n",
    "            data.president_party.iloc[i] = 0\n",
    "            \n",
    "        #president_overall_avg_job_approval: mean for state/district\n",
    "        if np.isnan(data.president_overall_avg_job_approval.iloc[i]):\n",
    "                data.president_overall_avg_job_approval.iloc[i] = dist_state.president_overall_avg_job_approval.mean()\n",
    "            \n",
    "        #last_D_house_seats: mean for state/district\n",
    "        if np.isnan(data.last_D_house_seats.iloc[i]):\n",
    "            data.last_D_house_seats.iloc[i] = dist_state.last_D_house_seats.mean()  \n",
    "            \n",
    "        #last_R_house_seats: mean for state/district\n",
    "        if np.isnan(data.last_R_house_seats.iloc[i]):\n",
    "            data.last_R_house_seats.iloc[i] = dist_state.last_R_house_seats.mean() \n",
    "\n",
    "        #last_house_majority: most occurence for state/district\n",
    "        if pd.isnull(data.last_house_majority.iloc[i]):\n",
    "            data.last_house_majority.iloc[i] = max(dist_state.last_house_majority.iteritems())\n",
    "\n",
    "        #fundraising: mean for state/district\n",
    "        if np.isnan(data.fundraising.iloc[i]):\n",
    "            data.fundraising.iloc[i] = dist_state.fundraising.mean() \n",
    "        \n",
    "            \n",
    "    data['votes'] = pd.to_numeric(data['votes']).round(0).astype(int)\n",
    "\n",
    "    return data"
   ]
  },
  {
   "cell_type": "code",
   "execution_count": 9,
   "metadata": {},
   "outputs": [
    {
     "name": "stderr",
     "output_type": "stream",
     "text": [
      "C:\\ProgramData\\Anaconda3\\lib\\site-packages\\pandas\\core\\indexing.py:189: SettingWithCopyWarning: \n",
      "A value is trying to be set on a copy of a slice from a DataFrame\n",
      "\n",
      "See the caveats in the documentation: http://pandas.pydata.org/pandas-docs/stable/indexing.html#indexing-view-versus-copy\n",
      "  self._setitem_with_indexer(indexer, value)\n"
     ]
    }
   ],
   "source": [
    "#clean orignal dataset nan_df\n",
    "clean_df = clean_nan(nan_df)"
   ]
  },
  {
   "cell_type": "code",
   "execution_count": 10,
   "metadata": {},
   "outputs": [
    {
     "data": {
      "text/plain": [
       "district                                0\n",
       "is_incumbent                            0\n",
       "name                                    0\n",
       "party                                   0\n",
       "percent                                 0\n",
       "state                                   0\n",
       "votes                                   0\n",
       "won                                     0\n",
       "year                                    0\n",
       "first_time_elected                      0\n",
       "count_victories                         0\n",
       "unemployement_rate                      0\n",
       "is_presidential_year                    0\n",
       "president_can_be_re_elected             0\n",
       "president_party                         0\n",
       "president_overall_avg_job_approval      0\n",
       "last_D_house_seats                      0\n",
       "last_R_house_seats                      0\n",
       "last_house_majority                     0\n",
       "fundraising                           172\n",
       "dtype: int64"
      ]
     },
     "execution_count": 10,
     "metadata": {},
     "output_type": "execute_result"
    }
   ],
   "source": [
    "#check if there are remaining NaN\n",
    "clean_df.isna().sum()"
   ]
  },
  {
   "cell_type": "code",
   "execution_count": 11,
   "metadata": {},
   "outputs": [],
   "source": [
    "#delete lines with NaN\n",
    "nan_df = clean_df.dropna()"
   ]
  },
  {
   "cell_type": "code",
   "execution_count": 18,
   "metadata": {},
   "outputs": [],
   "source": [
    "#no NaNs should be there anymore\n",
    "nan_df.isna().sum()\n",
    "nan_df.to_csv('data/house_mean_imputation.csv', index=False)"
   ]
  },
  {
   "cell_type": "markdown",
   "metadata": {},
   "source": [
    "# 2. PCA"
   ]
  },
  {
   "cell_type": "code",
   "execution_count": 13,
   "metadata": {},
   "outputs": [],
   "source": [
    "#category columns cannot be used for PCA analyzes so we delete them\n",
    "del_columns = ['party','district','president_party','last_house_majority', 'name', 'state']\n",
    "\n",
    "#function return the pca object and the scaled dataframe used for PCA\n",
    "def pca_with_scale(data,del_columns=del_columns):\n",
    "    #returns pca object and dataframe\n",
    "    #data: input dataframe\n",
    "    #del_columns: array with columns to be deleted e.g. columns with strings cannot be used for pca analyzes\n",
    "    \n",
    "    #drop all columns with category data  \n",
    "    data = data.drop(columns = del_columns)\n",
    "    #just to make sure data has no NaN values\n",
    "    scale_df = StandardScaler().fit_transform(data)\n",
    "    scale_df = pd.DataFrame(data=scale_df,    # values\n",
    "#              index=data[1:,0],    # 1st column as index\n",
    "              columns=data.columns)  # 1st row as the column names\n",
    "    scale_df = scale_df.dropna()\n",
    "    pca = PCA(n_components = scale_df.shape[1]).fit(scale_df)\n",
    "    return pca, scale_df"
   ]
  },
  {
   "cell_type": "code",
   "execution_count": 14,
   "metadata": {},
   "outputs": [
    {
     "name": "stderr",
     "output_type": "stream",
     "text": [
      "C:\\ProgramData\\Anaconda3\\lib\\site-packages\\sklearn\\preprocessing\\data.py:625: DataConversionWarning: Data with input dtype int32, int64, float64 were all converted to float64 by StandardScaler.\n",
      "  return self.partial_fit(X, y)\n",
      "C:\\ProgramData\\Anaconda3\\lib\\site-packages\\sklearn\\base.py:462: DataConversionWarning: Data with input dtype int32, int64, float64 were all converted to float64 by StandardScaler.\n",
      "  return self.fit(X, **fit_params).transform(X)\n"
     ]
    }
   ],
   "source": [
    "#get PCA object\n",
    "pca, scale_df = pca_with_scale(nan_df)"
   ]
  },
  {
   "cell_type": "code",
   "execution_count": 15,
   "metadata": {},
   "outputs": [
    {
     "name": "stdout",
     "output_type": "stream",
     "text": [
      "Number of components that explain at least 90% of the variance= 8\n"
     ]
    }
   ],
   "source": [
    "print(\"Number of components that explain at least 90% of the variance=\",\\\n",
    "    len(np.where(np.cumsum(pca.explained_variance_ratio_)<=0.9)[0])+1)"
   ]
  },
  {
   "cell_type": "code",
   "execution_count": 16,
   "metadata": {},
   "outputs": [
    {
     "data": {
      "text/plain": [
       "Text(0.5,1,'Cumulative variance explained')"
      ]
     },
     "execution_count": 16,
     "metadata": {},
     "output_type": "execute_result"
    },
    {
     "data": {
      "image/png": "[encoded data removed]",
      "text/plain": [
       "<Figure size 432x288 with 1 Axes>"
      ]
     },
     "metadata": {},
     "output_type": "display_data"
    }
   ],
   "source": [
    "#Plot the variance, cumulated per component\n",
    "plt.plot(np.linspace(1, scale_df.shape[1], scale_df.shape[1]), np.cumsum(pca.explained_variance_ratio_))\n",
    "plt.xlabel('number of components', fontsize=12)\n",
    "plt.ylabel('variance explained', fontsize=12)\n",
    "plt.title('Cumulative variance explained',fontsize=15)"
   ]
  },
  {
   "cell_type": "code",
   "execution_count": 17,
   "metadata": {},
   "outputs": [
    {
     "data": {
      "text/plain": [
       "Text(0.5,1,'Variance explained by each component')"
      ]
     },
     "execution_count": 17,
     "metadata": {},
     "output_type": "execute_result"
    },
    {
     "data": {
      "image/png": "[encoded data removed]",
      "text/plain": [
       "<Figure size 432x288 with 1 Axes>"
      ]
     },
     "metadata": {},
     "output_type": "display_data"
    }
   ],
   "source": [
    "#Plot the \n",
    "plt.scatter(range(1, scale_df.shape[1]+1), pca.explained_variance_ratio_)\n",
    "plt.xlabel('index of components', fontsize=12)\n",
    "plt.ylabel('variance explained', fontsize=12)\n",
    "plt.title('Variance explained by each component',fontsize=15)"
   ]
  },
  {
   "cell_type": "code",
   "execution_count": null,
   "metadata": {},
   "outputs": [],
   "source": []
  }
 ],
 "metadata": {
  "kernelspec": {
   "display_name": "Python 3",
   "language": "python",
   "name": "python3"
  },
  "language_info": {
   "codemirror_mode": {
    "name": "ipython",
    "version": 3
   },
   "file_extension": ".py",
   "mimetype": "text/x-python",
   "name": "python",
   "nbconvert_exporter": "python",
   "pygments_lexer": "ipython3",
   "version": "3.6.5"
  }
 },
 "nbformat": 4,
 "nbformat_minor": 2
}
